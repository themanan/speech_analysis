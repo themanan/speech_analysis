{
  "nbformat": 4,
  "nbformat_minor": 0,
  "metadata": {
    "colab": {
      "provenance": [],
      "toc_visible": true
    },
    "kernelspec": {
      "name": "python3",
      "display_name": "Python 3"
    },
    "language_info": {
      "name": "python"
    }
  },
  "cells": [
    {
      "cell_type": "markdown",
      "source": [
        "# Introduction\n"
      ],
      "metadata": {
        "id": "CH-TBR5fZsQY"
      }
    },
    {
      "cell_type": "markdown",
      "source": [
        "**Types of audio format**\n",
        "\n",
        "**mp3 -** compressed file and some data is lost\n",
        "\n",
        "**flac -** less compressed files and data can be reconstructed\n",
        "\n",
        "**wav - **not compressed but file size is large\n",
        "\n",
        "**Audio Signal Parameters**\n",
        "\n",
        "**no of channels -** two types a. mono and b. stero\n",
        "\n",
        "**sample width -** no of bytes for each sample\n",
        "\n",
        "**sample_rate/sample_freq -** no of sample for each second\n",
        "\n",
        "**no of frames**\n",
        "\n",
        "**values of frame -** it will be in binary form but can be converted into integers"
      ],
      "metadata": {
        "id": "B5w4JwvDZwwH"
      }
    },
    {
      "cell_type": "code",
      "execution_count": 49,
      "metadata": {
        "id": "5JxhcBHrrBRt"
      },
      "outputs": [],
      "source": [
        "import wave"
      ]
    },
    {
      "cell_type": "code",
      "source": [
        "obj = wave.open('/content/drive/MyDrive/Audio_Dataset/Toronto emotional speech dataset/OAF_Fear/OAF_back_fear.wav','rb')"
      ],
      "metadata": {
        "id": "lSvavQDpZOjj"
      },
      "execution_count": 50,
      "outputs": []
    },
    {
      "cell_type": "code",
      "source": [
        "print(\"Number of channels:\", obj.getnchannels())\n",
        "print(\"Sample width:\", obj.getsampwidth())\n",
        "print(\"Sample rate\", obj.getframerate())\n",
        "print('No of frames', obj.getnframes())\n",
        "print('Parameters', obj.getparams())"
      ],
      "metadata": {
        "colab": {
          "base_uri": "https://localhost:8080/"
        },
        "id": "VQqPJ3baZiFE",
        "outputId": "82065b94-02cc-4ccd-95a6-d83fc0b454c4"
      },
      "execution_count": 51,
      "outputs": [
        {
          "output_type": "stream",
          "name": "stdout",
          "text": [
            "Number of channels: 1\n",
            "Sample width: 2\n",
            "Sample rate 24414\n",
            "No of frames 42166\n",
            "Parameters _wave_params(nchannels=1, sampwidth=2, framerate=24414, nframes=42166, comptype='NONE', compname='not compressed')\n"
          ]
        }
      ]
    },
    {
      "cell_type": "code",
      "source": [
        "#length of audio can be determined by no of frames/ total per sec\n",
        "t_audio = (obj.getnframes())/(obj.getframerate())\n",
        "print('Audio length', t_audio)"
      ],
      "metadata": {
        "colab": {
          "base_uri": "https://localhost:8080/"
        },
        "id": "TPpeR2OEcPh-",
        "outputId": "468cb6a1-0039-4fbf-92ae-704d0641d673"
      },
      "execution_count": 52,
      "outputs": [
        {
          "output_type": "stream",
          "name": "stdout",
          "text": [
            "Audio length 1.7271237814368805\n"
          ]
        }
      ]
    },
    {
      "cell_type": "code",
      "source": [
        "frames = obj.readframes(-1)\n",
        "print(type(frames), type(frames[0]))\n",
        "print(len(frames))\n",
        "\n",
        "#the sample width is 2 so the frames read will give 2*no of frames\n",
        "obj.close()"
      ],
      "metadata": {
        "colab": {
          "base_uri": "https://localhost:8080/"
        },
        "id": "9qd45vGdctgL",
        "outputId": "b16ed7de-8b63-4615-9ae1-30bec5a4587b"
      },
      "execution_count": 53,
      "outputs": [
        {
          "output_type": "stream",
          "name": "stdout",
          "text": [
            "<class 'bytes'> <class 'int'>\n",
            "84332\n"
          ]
        }
      ]
    },
    {
      "cell_type": "code",
      "source": [
        "#writing/creting copy of a wav file\n",
        "obj_new = wave.open('angry.wav','wb')\n",
        "obj_new.setnchannels(1)\n",
        "obj_new.setsampwidth(2)\n",
        "obj_new.setframerate(24416)\n",
        "obj_new.writeframes(frames)\n",
        "obj_new.close()"
      ],
      "metadata": {
        "id": "OoBqo4yjc9r0"
      },
      "execution_count": 54,
      "outputs": []
    },
    {
      "cell_type": "markdown",
      "source": [
        "# Plotting waveform"
      ],
      "metadata": {
        "id": "IkUmr2w3eSg0"
      }
    },
    {
      "cell_type": "code",
      "source": [
        "import matplotlib.pyplot as plt\n",
        "import numpy as np\n",
        "import wave"
      ],
      "metadata": {
        "id": "ah96AqUreRz9"
      },
      "execution_count": 55,
      "outputs": []
    },
    {
      "cell_type": "markdown",
      "source": [
        "Reading the required parameters for plotting a wave\n",
        "\n",
        "the parameters are freq/framerate, total no of frames and all frames"
      ],
      "metadata": {
        "id": "111rCwDwe1-P"
      }
    },
    {
      "cell_type": "code",
      "source": [
        "obj = wave.open('/content/drive/MyDrive/Audio_Dataset/Toronto emotional speech dataset/OAF_Fear/OAF_back_fear.wav','rb')\n",
        "sample_freq = obj.getframerate()\n",
        "n_samples = obj.getnframes()\n",
        "signal_wave = obj.readframes(-1)\n",
        "obj.close()"
      ],
      "metadata": {
        "id": "64oynxijePGe"
      },
      "execution_count": 56,
      "outputs": []
    },
    {
      "cell_type": "code",
      "source": [
        "t_audio = n_samples/sample_freq\n",
        "print('Audio length', t_audio)"
      ],
      "metadata": {
        "colab": {
          "base_uri": "https://localhost:8080/"
        },
        "id": "jA40i-Q_ed78",
        "outputId": "f83f64e9-debd-41e9-b83e-82a1eb2a21b9"
      },
      "execution_count": 57,
      "outputs": [
        {
          "output_type": "stream",
          "name": "stdout",
          "text": [
            "Audio length 1.7271237814368805\n"
          ]
        }
      ]
    },
    {
      "cell_type": "code",
      "source": [
        "signal_array = np.frombuffer(buffer = signal_wave, dtype = np.int16)  #it takes all frames as buffer and data type\n",
        "times = np.linspace(start = 0, stop = t_audio, num = n_samples)\n",
        "plt.figure(figsize=(15,5))\n",
        "plt.plot(times, signal_array)\n",
        "plt.title(\"Audio Signal\")\n",
        "plt.ylabel('Signal wave')\n",
        "plt.xlabel('Time (Sec)')\n",
        "plt.xlim(0,t_audio)  #limits the x axis\n",
        "plt.show()"
      ],
      "metadata": {
        "colab": {
          "base_uri": "https://localhost:8080/",
          "height": 415
        },
        "id": "-fjoGVu5fJxm",
        "outputId": "59802a08-4dd8-47ce-b658-f7bcf5136d4a"
      },
      "execution_count": 58,
      "outputs": [
        {
          "output_type": "display_data",
          "data": {
            "text/plain": [
              "<Figure size 1500x500 with 1 Axes>"
            ],
            "image/png": "[encoded data removed]"
          },
          "metadata": {}
        }
      ]
    },
    {
      "cell_type": "markdown",
      "source": [
        "# Recording audio"
      ],
      "metadata": {
        "id": "uFkLF22Dht5O"
      }
    },
    {
      "cell_type": "code",
      "source": [
        "!pip install pyaudio"
      ],
      "metadata": {
        "colab": {
          "base_uri": "https://localhost:8080/"
        },
        "id": "UeBc30-Yh6le",
        "outputId": "450d8a36-0ad0-4341-9df6-fb7cba974e01"
      },
      "execution_count": 61,
      "outputs": [
        {
          "output_type": "stream",
          "name": "stdout",
          "text": [
            "Collecting pyaudio\n",
            "  Downloading PyAudio-0.2.14.tar.gz (47 kB)\n",
            "\u001b[?25l     \u001b[90m━━━━━━━━━━━━━━━━━━━━━━━━━━━━━━━━━━━━━━━━\u001b[0m \u001b[32m0.0/47.1 kB\u001b[0m \u001b[31m?\u001b[0m eta \u001b[36m-:--:--\u001b[0m\r\u001b[2K     \u001b[90m━━━━━━━━━━━━━━━━━━━━━━━━━━━━━━━━━━━━━━━━\u001b[0m \u001b[32m47.1/47.1 kB\u001b[0m \u001b[31m2.0 MB/s\u001b[0m eta \u001b[36m0:00:00\u001b[0m\n",
            "\u001b[?25h  Installing build dependencies ... \u001b[?25l\u001b[?25hdone\n",
            "  Getting requirements to build wheel ... \u001b[?25l\u001b[?25hdone\n",
            "  Preparing metadata (pyproject.toml) ... \u001b[?25l\u001b[?25hdone\n",
            "Building wheels for collected packages: pyaudio\n",
            "  \u001b[1;31merror\u001b[0m: \u001b[1msubprocess-exited-with-error\u001b[0m\n",
            "  \n",
            "  \u001b[31m×\u001b[0m \u001b[32mBuilding wheel for pyaudio \u001b[0m\u001b[1;32m(\u001b[0m\u001b[32mpyproject.toml\u001b[0m\u001b[1;32m)\u001b[0m did not run successfully.\n",
            "  \u001b[31m│\u001b[0m exit code: \u001b[1;36m1\u001b[0m\n",
            "  \u001b[31m╰─>\u001b[0m See above for output.\n",
            "  \n",
            "  \u001b[1;35mnote\u001b[0m: This error originates from a subprocess, and is likely not a problem with pip.\n",
            "  Building wheel for pyaudio (pyproject.toml) ... \u001b[?25l\u001b[?25herror\n",
            "\u001b[31m  ERROR: Failed building wheel for pyaudio\u001b[0m\u001b[31m\n",
            "\u001b[0mFailed to build pyaudio\n",
            "\u001b[31mERROR: Could not build wheels for pyaudio, which is required to install pyproject.toml-based projects\u001b[0m\u001b[31m\n",
            "\u001b[0m"
          ]
        }
      ]
    },
    {
      "cell_type": "code",
      "source": [
        "import pyaudio\n",
        "import wave"
      ],
      "metadata": {
        "colab": {
          "base_uri": "https://localhost:8080/",
          "height": 326
        },
        "id": "gien_eGbgaip",
        "outputId": "7f147c44-dd37-4465-9010-a8fe68dbf188"
      },
      "execution_count": 59,
      "outputs": [
        {
          "output_type": "error",
          "ename": "ModuleNotFoundError",
          "evalue": "No module named 'pyaudio'",
          "traceback": [
            "\u001b[0;31m---------------------------------------------------------------------------\u001b[0m",
            "\u001b[0;31mModuleNotFoundError\u001b[0m                       Traceback (most recent call last)",
            "\u001b[0;32m<ipython-input-59-180f1201419f>\u001b[0m in \u001b[0;36m<cell line: 1>\u001b[0;34m()\u001b[0m\n\u001b[0;32m----> 1\u001b[0;31m \u001b[0;32mimport\u001b[0m \u001b[0mpyaudio\u001b[0m\u001b[0;34m\u001b[0m\u001b[0;34m\u001b[0m\u001b[0m\n\u001b[0m",
            "\u001b[0;31mModuleNotFoundError\u001b[0m: No module named 'pyaudio'",
            "",
            "\u001b[0;31m---------------------------------------------------------------------------\u001b[0;32m\nNOTE: If your import is failing due to a missing package, you can\nmanually install dependencies using either !pip or !apt.\n\nTo view examples of installing some common dependencies, click the\n\"Open Examples\" button below.\n\u001b[0;31m---------------------------------------------------------------------------\u001b[0m\n"
          ],
          "errorDetails": {
            "actions": [
              {
                "action": "open_url",
                "actionText": "Open Examples",
                "url": "/notebooks/snippets/importing_libraries.ipynb"
              }
            ]
          }
        }
      ]
    },
    {
      "cell_type": "code",
      "source": [
        "FRAMES_PER_BUFFER = 3200\n",
        "FORMAT = pyaudio.paInt16\n",
        "CHANNELS = 1\n",
        "RATE = 16000"
      ],
      "metadata": {
        "colab": {
          "base_uri": "https://localhost:8080/",
          "height": 200
        },
        "id": "UNaO92Akh22C",
        "outputId": "c8a47ec4-d10f-429d-cf64-131da806539e"
      },
      "execution_count": 62,
      "outputs": [
        {
          "output_type": "error",
          "ename": "NameError",
          "evalue": "name 'pyaudio' is not defined",
          "traceback": [
            "\u001b[0;31m---------------------------------------------------------------------------\u001b[0m",
            "\u001b[0;31mNameError\u001b[0m                                 Traceback (most recent call last)",
            "\u001b[0;32m<ipython-input-62-8a0eaad13399>\u001b[0m in \u001b[0;36m<cell line: 2>\u001b[0;34m()\u001b[0m\n\u001b[1;32m      1\u001b[0m \u001b[0mFRAMES_PER_BUFFER\u001b[0m \u001b[0;34m=\u001b[0m \u001b[0;36m3200\u001b[0m\u001b[0;34m\u001b[0m\u001b[0;34m\u001b[0m\u001b[0m\n\u001b[0;32m----> 2\u001b[0;31m \u001b[0mFORMAT\u001b[0m \u001b[0;34m=\u001b[0m \u001b[0mpyaudio\u001b[0m\u001b[0;34m.\u001b[0m\u001b[0mpaInt16\u001b[0m\u001b[0;34m\u001b[0m\u001b[0;34m\u001b[0m\u001b[0m\n\u001b[0m\u001b[1;32m      3\u001b[0m \u001b[0mCHANNELS\u001b[0m \u001b[0;34m=\u001b[0m \u001b[0;36m1\u001b[0m\u001b[0;34m\u001b[0m\u001b[0;34m\u001b[0m\u001b[0m\n\u001b[1;32m      4\u001b[0m \u001b[0mRATE\u001b[0m \u001b[0;34m=\u001b[0m \u001b[0;36m16000\u001b[0m\u001b[0;34m\u001b[0m\u001b[0;34m\u001b[0m\u001b[0m\n",
            "\u001b[0;31mNameError\u001b[0m: name 'pyaudio' is not defined"
          ]
        }
      ]
    },
    {
      "cell_type": "code",
      "source": [
        "p = pyaudio.PyAudio()\n",
        "stream = p.open(\n",
        "    format = FORMAT,\n",
        "    channels= CHANNELS,\n",
        "    rate = RATE,\n",
        "    input = True,\n",
        "    frames_per_buffer = FRAMES_PER_BUFFER\n",
        ")\n"
      ],
      "metadata": {
        "id": "POM9w9hgiRBN"
      },
      "execution_count": null,
      "outputs": []
    },
    {
      "cell_type": "code",
      "source": [
        "print(\"Start Recording\")\n",
        "\n",
        "seconds = 5\n",
        "frames = []\n",
        "\n",
        "for i in range(0, int(RATE/FRAMES_PER_BUFFER*seconds)):\n",
        "  data = stream.read(FRAMES_PER_BUFFER)\n",
        "  frames.append(data)\n",
        "\n",
        "stream.stop_stream()\n",
        "stream.close()\n",
        "p.terminate()"
      ],
      "metadata": {
        "id": "9b-e2KmnitzH"
      },
      "execution_count": null,
      "outputs": []
    },
    {
      "cell_type": "code",
      "source": [
        "#writing/creting copy of a wav file\n",
        "obj_new = wave.open('custom.wav','wb')\n",
        "obj_new.setnchannels(CHANNELS)\n",
        "obj_new.setsampwidth(p.get_sample_size(FORMAT))\n",
        "obj_new.setframerate(RATE)\n",
        "obj_new.writeframes(b\"\".join(frames))  #b\"\" is a binary list and join(frames) will create a binary string\n",
        "obj_new.close()"
      ],
      "metadata": {
        "id": "Y_iBa9HxjbmB"
      },
      "execution_count": null,
      "outputs": []
    }
  ]
}